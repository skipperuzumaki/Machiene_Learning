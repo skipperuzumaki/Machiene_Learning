{
  "nbformat": 4,
  "nbformat_minor": 0,
  "metadata": {
    "colab": {
      "name": "DetectSky.ipynb",
      "provenance": [],
      "collapsed_sections": [],
      "machine_shape": "hm",
      "authorship_tag": "ABX9TyN9QdfzhJlNqhC9Mz+i7SoY"
    },
    "kernelspec": {
      "name": "python3",
      "display_name": "Python 3"
    }
  },
  "cells": [
    {
      "cell_type": "code",
      "metadata": {
        "id": "8HBdI-k8sSwa",
        "colab_type": "code",
        "colab": {}
      },
      "source": [
        "!pip install tensorflow==2.1.0rc"
      ],
      "execution_count": 0,
      "outputs": []
    },
    {
      "cell_type": "code",
      "metadata": {
        "id": "HzEgedYZsYtQ",
        "colab_type": "code",
        "colab": {}
      },
      "source": [
        "!pip install grpcio==1.24.3"
      ],
      "execution_count": 0,
      "outputs": []
    },
    {
      "cell_type": "code",
      "metadata": {
        "id": "adZqMhsSszuK",
        "colab_type": "code",
        "colab": {}
      },
      "source": [
        "!pip install google-auth==1.4.0"
      ],
      "execution_count": 0,
      "outputs": []
    },
    {
      "cell_type": "code",
      "metadata": {
        "id": "rbznIyR0s6Q5",
        "colab_type": "code",
        "colab": {}
      },
      "source": [
        "import tensorflow as tf"
      ],
      "execution_count": 0,
      "outputs": []
    },
    {
      "cell_type": "code",
      "metadata": {
        "id": "ypgnxstvtHVy",
        "colab_type": "code",
        "colab": {}
      },
      "source": [
        "def Model(input_shape,output_shape):\n",
        "  model = tf.keras.Sequential()\n",
        "  model.add(tf.keras.layers.Dense((128*128*3),use_bias = False , input_shape = input_shape))\n",
        "  model.add(tf.keras.layers.LeakyReLU())\n",
        "  model.add(tf.keras.layers.MaxPool2D())\n",
        "  model.add(tf.keras.layers.Reshape((128,128,3)))\n",
        "  model.add(tf.keras.layers.Conv2DTranspose(128, (5, 5), strides=(1, 1), padding='same', use_bias=False))\n",
        "  model.add(tf.keras.layers.LeakyReLU())\n",
        "  model.add(tf.keras.layers.MaxPool2D())\n",
        "  model.add(tf.keras.layers.Conv2DTranspose(64, (5, 5), strides=(2, 2), padding='same', use_bias=False ,activation = 'sigmoid'))\n",
        "  model.add(tf.keras.layers.Reshape(output_shape))\n",
        "  return model"
      ],
      "execution_count": 0,
      "outputs": []
    },
    {
      "cell_type": "code",
      "metadata": {
        "id": "t3mWpkY7vCAx",
        "colab_type": "code",
        "colab": {}
      },
      "source": [
        "cross_entropy = tf.keras.losses.BinaryCrossentropy(from_logits=True)\n",
        "def loss(output,mask):\n",
        "  loss = cross_entropy(mask,output)\n",
        "  return loss"
      ],
      "execution_count": 0,
      "outputs": []
    },
    {
      "cell_type": "code",
      "metadata": {
        "id": "-DKomD3Hv9SQ",
        "colab_type": "code",
        "colab": {}
      },
      "source": [
        "from zipfile import ZipFile"
      ],
      "execution_count": 0,
      "outputs": []
    },
    {
      "cell_type": "code",
      "metadata": {
        "id": "SGHBG6c7x5ru",
        "colab_type": "code",
        "colab": {}
      },
      "source": [
        "with ZipFile('/content/sky.zip','r') as zipObj:\n",
        "  zipObj.extractall()"
      ],
      "execution_count": 0,
      "outputs": []
    },
    {
      "cell_type": "code",
      "metadata": {
        "id": "4peqIfEPyPAI",
        "colab_type": "code",
        "colab": {}
      },
      "source": [
        "import os\n",
        "import cv2\n",
        "images = os.listdir('/content/sky/data')\n",
        "opt = os.listdir('/content/sky/groundtruth')\n",
        "def Gen(i):\n",
        "  img = cv2.imread('/content/sky/data/' + images[i])\n",
        "  img = (img / 127.5) - 1.0\n",
        "  opt_img = cv2.imread('/content/sky/groundtruth/' + opt[i])\n",
        "  opt_img = ((opt_img[:,:,0]+opt_img[:,:,1]+opt_img[:,:,2]) / (255.0 *3))\n",
        "  return img , opt_img"
      ],
      "execution_count": 0,
      "outputs": []
    },
    {
      "cell_type": "code",
      "metadata": {
        "id": "bwkqCXV60ZCq",
        "colab_type": "code",
        "colab": {}
      },
      "source": [
        "EPOCHS = 50\n",
        "optimizer = tf.keras.optimizers.Adam(1e-4)\n",
        "def train(model , epochs):\n",
        "  e_loss = 'INFINITE'\n",
        "  for e in range(epochs):\n",
        "    print(e_loss)\n",
        "    for i in range(len(images)):\n",
        "      t,o = Gen(i)\n",
        "      with tf.GradientTape() as tape:\n",
        "        print(0)\n",
        "        o_m = model(t)\n",
        "        print(1)\n",
        "        loss = loss(o_m , m)\n",
        "        print(3)\n",
        "        if i == 0:\n",
        "          e_loss = loss\n",
        "        else:\n",
        "          e_loss += loss\n",
        "        grads = tape.gradient(loss,model.trainable_variables)\n",
        "        optimizer.apply_gradients(zip(grads, model.trainable_variables))"
      ],
      "execution_count": 0,
      "outputs": []
    },
    {
      "cell_type": "code",
      "metadata": {
        "id": "JKnIZ0y52Kvh",
        "colab_type": "code",
        "colab": {
          "base_uri": "https://localhost:8080/",
          "height": 495
        },
        "outputId": "5de9b38b-7211-4ca5-99c8-b85c7e2f3552"
      },
      "source": [
        "t,o = Gen(0)\n",
        "Skyfinder = Model(t.shape,o.shape)\n",
        "Skyfinder.summary()"
      ],
      "execution_count": 8,
      "outputs": [
        {
          "output_type": "stream",
          "text": [
            "Model: \"sequential\"\n",
            "_________________________________________________________________\n",
            "Layer (type)                 Output Shape              Param #   \n",
            "=================================================================\n",
            "dense (Dense)                (None, 401, 600, 49152)   147456    \n",
            "_________________________________________________________________\n",
            "leaky_re_lu (LeakyReLU)      (None, 401, 600, 49152)   0         \n",
            "_________________________________________________________________\n",
            "max_pooling2d (MaxPooling2D) (None, 200, 300, 49152)   0         \n",
            "_________________________________________________________________\n",
            "reshape (Reshape)            (None, 128, 128, 3)       0         \n",
            "_________________________________________________________________\n",
            "conv2d_transpose (Conv2DTran (None, 128, 128, 128)     9600      \n",
            "_________________________________________________________________\n",
            "leaky_re_lu_1 (LeakyReLU)    (None, 128, 128, 128)     0         \n",
            "_________________________________________________________________\n",
            "max_pooling2d_1 (MaxPooling2 (None, 64, 64, 128)       0         \n",
            "_________________________________________________________________\n",
            "conv2d_transpose_1 (Conv2DTr (None, 128, 128, 64)      204800    \n",
            "_________________________________________________________________\n",
            "reshape_1 (Reshape)          (None, 400, 600)          0         \n",
            "=================================================================\n",
            "Total params: 361,856\n",
            "Trainable params: 361,856\n",
            "Non-trainable params: 0\n",
            "_________________________________________________________________\n"
          ],
          "name": "stdout"
        }
      ]
    },
    {
      "cell_type": "code",
      "metadata": {
        "id": "s-2Ih8uJ2baO",
        "colab_type": "code",
        "colab": {
          "base_uri": "https://localhost:8080/",
          "height": 202
        },
        "outputId": "0bcec13d-568a-4908-b01f-859c1513ccba"
      },
      "source": [
        "train(Skyfinder,EPOCHS)"
      ],
      "execution_count": 0,
      "outputs": [
        {
          "output_type": "stream",
          "text": [
            "INFINITE\n",
            "0\n",
            "WARNING:tensorflow:Model was constructed with shape Tensor(\"dense_input:0\", shape=(None, 401, 600, 3), dtype=float32) for input (None, 401, 600, 3), but it was re-called on a Tensor with incompatible shape (401, 600, 3).\n",
            "WARNING:tensorflow:Layer dense is casting an input tensor from dtype float64 to the layer's dtype of float32, which is new behavior in TensorFlow 2.  The layer has dtype float32 because it's dtype defaults to floatx.\n",
            "\n",
            "If you intended to run this layer in float32, you can safely ignore this warning. If in doubt, this warning is likely only an issue if you are porting a TensorFlow 1.X model to TensorFlow 2.\n",
            "\n",
            "To change all layers to have dtype float64 by default, call `tf.keras.backend.set_floatx('float64')`. To change just this layer, pass dtype='float64' to the layer constructor. If you are the author of this layer, you can disable autocasting by passing autocast=False to the base Layer constructor.\n",
            "\n"
          ],
          "name": "stdout"
        }
      ]
    },
    {
      "cell_type": "code",
      "metadata": {
        "id": "l2ELgfpr6yoi",
        "colab_type": "code",
        "colab": {}
      },
      "source": [
        ""
      ],
      "execution_count": 0,
      "outputs": []
    }
  ]
}