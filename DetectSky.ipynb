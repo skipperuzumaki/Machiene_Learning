{
  "nbformat": 4,
  "nbformat_minor": 0,
  "metadata": {
    "colab": {
      "name": "DetectSky.ipynb",
      "provenance": [],
      "collapsed_sections": [],
      "machine_shape": "hm",
      "authorship_tag": "ABX9TyO3WKjcaC2cvDCNr4OWPptZ"
    },
    "kernelspec": {
      "name": "python3",
      "display_name": "Python 3"
    }
  },
  "cells": [
    {
      "cell_type": "code",
      "metadata": {
        "id": "8HBdI-k8sSwa",
        "colab_type": "code",
        "colab": {}
      },
      "source": [
        "!pip install tensorflow==2.1.0rc"
      ],
      "execution_count": 0,
      "outputs": []
    },
    {
      "cell_type": "code",
      "metadata": {
        "id": "HzEgedYZsYtQ",
        "colab_type": "code",
        "colab": {}
      },
      "source": [
        "!pip install grpcio==1.24.3"
      ],
      "execution_count": 0,
      "outputs": []
    },
    {
      "cell_type": "code",
      "metadata": {
        "id": "adZqMhsSszuK",
        "colab_type": "code",
        "colab": {}
      },
      "source": [
        "!pip install google-auth==1.4.0"
      ],
      "execution_count": 0,
      "outputs": []
    },
    {
      "cell_type": "code",
      "metadata": {
        "id": "rbznIyR0s6Q5",
        "colab_type": "code",
        "colab": {}
      },
      "source": [
        "import tensorflow as tf"
      ],
      "execution_count": 0,
      "outputs": []
    },
    {
      "cell_type": "code",
      "metadata": {
        "id": "ypgnxstvtHVy",
        "colab_type": "code",
        "colab": {}
      },
      "source": [
        "from tensorflow.keras.layers import *\n",
        "def Model(input_shape,output_shape):\n",
        "  model = tf.keras.Sequential()\n",
        "  model.add(Conv2D(4,(2,2),padding = 'same',input_shape = input_shape))\n",
        "  model.add(MaxPool2D())\n",
        "  model.add(Conv2D(8,(2,2),padding = 'same',activation='relu'))\n",
        "  model.add(MaxPool2D())\n",
        "  model.add(Conv2D(16,(2,2),padding = 'same',activation='relu'))\n",
        "  model.add(MaxPool2D())\n",
        "  model.add(Conv2D(32,(2,2),padding = 'same',activation='relu'))\n",
        "  model.add(Conv2D(64,(2,2),padding = 'same' , activation = 'sigmoid'))\n",
        "  model.add(Reshape((600,400)))\n",
        "  return model"
      ],
      "execution_count": 0,
      "outputs": []
    },
    {
      "cell_type": "code",
      "metadata": {
        "id": "t3mWpkY7vCAx",
        "colab_type": "code",
        "colab": {}
      },
      "source": [
        "entropy = tf.keras.losses.MeanSquaredError()\n",
        "import cv2\n",
        "def loss(output,mask):\n",
        "  return entropy(mask,output)"
      ],
      "execution_count": 0,
      "outputs": []
    },
    {
      "cell_type": "code",
      "metadata": {
        "id": "-DKomD3Hv9SQ",
        "colab_type": "code",
        "colab": {}
      },
      "source": [
        "from zipfile import ZipFile"
      ],
      "execution_count": 0,
      "outputs": []
    },
    {
      "cell_type": "code",
      "metadata": {
        "id": "SGHBG6c7x5ru",
        "colab_type": "code",
        "colab": {}
      },
      "source": [
        "with ZipFile('/content/sky.zip','r') as zipObj:\n",
        "  zipObj.extractall()"
      ],
      "execution_count": 0,
      "outputs": []
    },
    {
      "cell_type": "code",
      "metadata": {
        "id": "4peqIfEPyPAI",
        "colab_type": "code",
        "colab": {}
      },
      "source": [
        "import os\n",
        "import numpy as np\n",
        "import cv2\n",
        "images = os.listdir('/content/sky/data')\n",
        "opt = os.listdir('/content/sky/groundtruth')\n",
        "def Gen(i):\n",
        "  img = cv2.imread('/content/sky/data/' + images[i])\n",
        "  img = cv2.resize(img, (600,400), interpolation = cv2.INTER_AREA)\n",
        "  img = (img / 127.5) - 1.0\n",
        "  imgr = []\n",
        "  imgr.append(img)\n",
        "  img = tf.convert_to_tensor(imgr, dtype=tf.float32)\n",
        "  opt_img = cv2.imread('/content/sky/groundtruth/' + opt[i])\n",
        "  opt_img = cv2.resize(opt_img, (600,400), interpolation = cv2.INTER_AREA)\n",
        "  opt_img = ((opt_img[:,:,0]+opt_img[:,:,1]+opt_img[:,:,2]) / (255.0 *3))\n",
        "  imgr = []\n",
        "  imgr.append(opt_img)\n",
        "  opt_img = tf.convert_to_tensor(imgr, dtype=tf.float32)\n",
        "  return img , opt_img"
      ],
      "execution_count": 0,
      "outputs": []
    },
    {
      "cell_type": "code",
      "metadata": {
        "id": "bwkqCXV60ZCq",
        "colab_type": "code",
        "colab": {}
      },
      "source": [
        "EPOCHS = 500\n",
        "optimizer = tf.keras.optimizers.Adam(1e-4)\n",
        "import matplotlib.pyplot as plt\n",
        "def train(model , epochs):\n",
        "  e_loss = 'INFINITE'\n",
        "  for e in range(epochs):\n",
        "    print(e_loss)\n",
        "    for i in range(len(images)):\n",
        "      t,o = Gen(i)\n",
        "      with tf.GradientTape() as tape:\n",
        "        o_m = model(t)\n",
        "        lo = loss(o_m , o)\n",
        "        if i == 0:\n",
        "          e_loss = lo\n",
        "        else:\n",
        "          e_loss += lo\n",
        "        grads = tape.gradient(lo,model.trainable_variables)\n",
        "        optimizer.apply_gradients(zip(grads, model.trainable_variables))\n",
        "    if e%10 == 0:\n",
        "      model.save_weights('/content/')\n",
        "      z,x = Gen(0)\n",
        "      plt.imshow(z[0])\n",
        "      plt.imshow(x[0])\n",
        "      c = model(z)\n",
        "      plt.imshow(c[0])"
      ],
      "execution_count": 0,
      "outputs": []
    },
    {
      "cell_type": "code",
      "metadata": {
        "id": "JKnIZ0y52Kvh",
        "colab_type": "code",
        "outputId": "a774637a-3188-4cfd-96d2-1be0599fc821",
        "colab": {
          "base_uri": "https://localhost:8080/",
          "height": 495
        }
      },
      "source": [
        "t,o = Gen(0)\n",
        "Skyfinder = Model(t[0].shape,o[0].shape)\n",
        "Skyfinder.summary()"
      ],
      "execution_count": 8,
      "outputs": [
        {
          "output_type": "stream",
          "text": [
            "Model: \"sequential\"\n",
            "_________________________________________________________________\n",
            "Layer (type)                 Output Shape              Param #   \n",
            "=================================================================\n",
            "conv2d (Conv2D)              (None, 600, 400, 4)       52        \n",
            "_________________________________________________________________\n",
            "max_pooling2d (MaxPooling2D) (None, 300, 200, 4)       0         \n",
            "_________________________________________________________________\n",
            "conv2d_1 (Conv2D)            (None, 300, 200, 8)       136       \n",
            "_________________________________________________________________\n",
            "max_pooling2d_1 (MaxPooling2 (None, 150, 100, 8)       0         \n",
            "_________________________________________________________________\n",
            "conv2d_2 (Conv2D)            (None, 150, 100, 16)      528       \n",
            "_________________________________________________________________\n",
            "max_pooling2d_2 (MaxPooling2 (None, 75, 50, 16)        0         \n",
            "_________________________________________________________________\n",
            "conv2d_3 (Conv2D)            (None, 75, 50, 32)        2080      \n",
            "_________________________________________________________________\n",
            "conv2d_4 (Conv2D)            (None, 75, 50, 64)        8256      \n",
            "_________________________________________________________________\n",
            "reshape (Reshape)            (None, 600, 400)          0         \n",
            "=================================================================\n",
            "Total params: 11,052\n",
            "Trainable params: 11,052\n",
            "Non-trainable params: 0\n",
            "_________________________________________________________________\n"
          ],
          "name": "stdout"
        }
      ]
    },
    {
      "cell_type": "code",
      "metadata": {
        "id": "s-2Ih8uJ2baO",
        "colab_type": "code",
        "outputId": "56b9ac8a-b420-486c-ac23-3d9730e80441",
        "colab": {
          "base_uri": "https://localhost:8080/",
          "height": 935
        }
      },
      "source": [
        "train(Skyfinder,EPOCHS)"
      ],
      "execution_count": 9,
      "outputs": [
        {
          "output_type": "stream",
          "text": [
            "INFINITE\n",
            "tf.Tensor(9.217433, shape=(), dtype=float32)\n",
            "tf.Tensor(7.6667423, shape=(), dtype=float32)\n",
            "tf.Tensor(4.713748, shape=(), dtype=float32)\n",
            "tf.Tensor(2.4399536, shape=(), dtype=float32)\n",
            "tf.Tensor(1.8820826, shape=(), dtype=float32)\n",
            "tf.Tensor(1.7661301, shape=(), dtype=float32)\n",
            "tf.Tensor(1.7060323, shape=(), dtype=float32)\n",
            "tf.Tensor(1.659509, shape=(), dtype=float32)\n",
            "tf.Tensor(1.6202774, shape=(), dtype=float32)\n",
            "tf.Tensor(1.587308, shape=(), dtype=float32)\n",
            "tf.Tensor(1.5582894, shape=(), dtype=float32)\n",
            "tf.Tensor(1.5334021, shape=(), dtype=float32)\n",
            "tf.Tensor(1.5121429, shape=(), dtype=float32)\n",
            "tf.Tensor(1.493264, shape=(), dtype=float32)\n",
            "tf.Tensor(1.4768368, shape=(), dtype=float32)\n",
            "tf.Tensor(1.462271, shape=(), dtype=float32)\n",
            "tf.Tensor(1.4488689, shape=(), dtype=float32)\n",
            "tf.Tensor(1.437411, shape=(), dtype=float32)\n",
            "tf.Tensor(1.42764, shape=(), dtype=float32)\n",
            "tf.Tensor(1.4192358, shape=(), dtype=float32)\n",
            "tf.Tensor(1.411381, shape=(), dtype=float32)\n",
            "tf.Tensor(1.4039723, shape=(), dtype=float32)\n",
            "tf.Tensor(1.3968773, shape=(), dtype=float32)\n",
            "tf.Tensor(1.3901092, shape=(), dtype=float32)\n",
            "tf.Tensor(1.3837215, shape=(), dtype=float32)\n",
            "tf.Tensor(1.3775871, shape=(), dtype=float32)\n",
            "tf.Tensor(1.371766, shape=(), dtype=float32)\n",
            "tf.Tensor(1.3662219, shape=(), dtype=float32)\n",
            "tf.Tensor(1.3609312, shape=(), dtype=float32)\n",
            "tf.Tensor(1.3558947, shape=(), dtype=float32)\n",
            "tf.Tensor(1.3511068, shape=(), dtype=float32)\n",
            "tf.Tensor(1.3465656, shape=(), dtype=float32)\n",
            "tf.Tensor(1.342268, shape=(), dtype=float32)\n",
            "tf.Tensor(1.3382148, shape=(), dtype=float32)\n",
            "tf.Tensor(1.3343974, shape=(), dtype=float32)\n",
            "tf.Tensor(1.3308043, shape=(), dtype=float32)\n",
            "tf.Tensor(1.3274224, shape=(), dtype=float32)\n",
            "tf.Tensor(1.3242356, shape=(), dtype=float32)\n",
            "tf.Tensor(1.3212298, shape=(), dtype=float32)\n",
            "tf.Tensor(1.3183962, shape=(), dtype=float32)\n",
            "tf.Tensor(1.3157209, shape=(), dtype=float32)\n",
            "tf.Tensor(1.3131932, shape=(), dtype=float32)\n",
            "tf.Tensor(1.3108062, shape=(), dtype=float32)\n",
            "tf.Tensor(1.3085495, shape=(), dtype=float32)\n",
            "tf.Tensor(1.3064119, shape=(), dtype=float32)\n",
            "tf.Tensor(1.3043789, shape=(), dtype=float32)\n",
            "tf.Tensor(1.3024428, shape=(), dtype=float32)\n",
            "tf.Tensor(1.3006012, shape=(), dtype=float32)\n",
            "tf.Tensor(1.2988436, shape=(), dtype=float32)\n"
          ],
          "name": "stdout"
        }
      ]
    },
    {
      "cell_type": "code",
      "metadata": {
        "id": "OPHL_AtQf26W",
        "colab_type": "code",
        "colab": {}
      },
      "source": [
        ""
      ],
      "execution_count": 0,
      "outputs": []
    }
  ]
}