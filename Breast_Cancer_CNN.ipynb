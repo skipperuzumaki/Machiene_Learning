{
  "nbformat": 4,
  "nbformat_minor": 0,
  "metadata": {
    "colab": {
      "name": "Breast_Cancer_CNN.ipynb",
      "provenance": [],
      "collapsed_sections": []
    },
    "kernelspec": {
      "name": "python3",
      "display_name": "Python 3"
    }
  },
  "cells": [
    {
      "cell_type": "code",
      "metadata": {
        "id": "PGUCWvIT_E--",
        "colab_type": "code",
        "colab": {
          "base_uri": "https://localhost:8080/",
          "height": 402
        },
        "outputId": "61b8fc46-a364-47c1-f0fc-ab7e00907993"
      },
      "source": [
        "!pip install tensorflow-gpu==2.0rc"
      ],
      "execution_count": 1,
      "outputs": [
        {
          "output_type": "stream",
          "text": [
            "Requirement already satisfied: tensorflow-gpu==2.0rc in /usr/local/lib/python3.6/dist-packages (2.0.0rc0)\n",
            "Requirement already satisfied: astor>=0.6.0 in /usr/local/lib/python3.6/dist-packages (from tensorflow-gpu==2.0rc) (0.8.0)\n",
            "Requirement already satisfied: opt-einsum>=2.3.2 in /usr/local/lib/python3.6/dist-packages (from tensorflow-gpu==2.0rc) (3.1.0)\n",
            "Requirement already satisfied: tb-nightly<1.15.0a20190807,>=1.15.0a20190806 in /usr/local/lib/python3.6/dist-packages (from tensorflow-gpu==2.0rc) (1.15.0a20190806)\n",
            "Requirement already satisfied: google-pasta>=0.1.6 in /usr/local/lib/python3.6/dist-packages (from tensorflow-gpu==2.0rc) (0.1.7)\n",
            "Requirement already satisfied: tf-estimator-nightly<1.14.0.dev2019080602,>=1.14.0.dev2019080601 in /usr/local/lib/python3.6/dist-packages (from tensorflow-gpu==2.0rc) (1.14.0.dev2019080601)\n",
            "Requirement already satisfied: absl-py>=0.7.0 in /usr/local/lib/python3.6/dist-packages (from tensorflow-gpu==2.0rc) (0.8.0)\n",
            "Requirement already satisfied: keras-preprocessing>=1.0.5 in /usr/local/lib/python3.6/dist-packages (from tensorflow-gpu==2.0rc) (1.1.0)\n",
            "Requirement already satisfied: termcolor>=1.1.0 in /usr/local/lib/python3.6/dist-packages (from tensorflow-gpu==2.0rc) (1.1.0)\n",
            "Requirement already satisfied: wheel>=0.26 in /usr/local/lib/python3.6/dist-packages (from tensorflow-gpu==2.0rc) (0.33.6)\n",
            "Requirement already satisfied: numpy<2.0,>=1.16.0 in /usr/local/lib/python3.6/dist-packages (from tensorflow-gpu==2.0rc) (1.16.5)\n",
            "Requirement already satisfied: keras-applications>=1.0.8 in /usr/local/lib/python3.6/dist-packages (from tensorflow-gpu==2.0rc) (1.0.8)\n",
            "Requirement already satisfied: wrapt>=1.11.1 in /usr/local/lib/python3.6/dist-packages (from tensorflow-gpu==2.0rc) (1.11.2)\n",
            "Requirement already satisfied: gast>=0.2.0 in /usr/local/lib/python3.6/dist-packages (from tensorflow-gpu==2.0rc) (0.2.2)\n",
            "Requirement already satisfied: protobuf>=3.6.1 in /usr/local/lib/python3.6/dist-packages (from tensorflow-gpu==2.0rc) (3.7.1)\n",
            "Requirement already satisfied: grpcio>=1.8.6 in /usr/local/lib/python3.6/dist-packages (from tensorflow-gpu==2.0rc) (1.15.0)\n",
            "Requirement already satisfied: six>=1.10.0 in /usr/local/lib/python3.6/dist-packages (from tensorflow-gpu==2.0rc) (1.12.0)\n",
            "Requirement already satisfied: werkzeug>=0.11.15 in /usr/local/lib/python3.6/dist-packages (from tb-nightly<1.15.0a20190807,>=1.15.0a20190806->tensorflow-gpu==2.0rc) (0.16.0)\n",
            "Requirement already satisfied: markdown>=2.6.8 in /usr/local/lib/python3.6/dist-packages (from tb-nightly<1.15.0a20190807,>=1.15.0a20190806->tensorflow-gpu==2.0rc) (3.1.1)\n",
            "Requirement already satisfied: setuptools>=41.0.0 in /usr/local/lib/python3.6/dist-packages (from tb-nightly<1.15.0a20190807,>=1.15.0a20190806->tensorflow-gpu==2.0rc) (41.2.0)\n",
            "Requirement already satisfied: h5py in /usr/local/lib/python3.6/dist-packages (from keras-applications>=1.0.8->tensorflow-gpu==2.0rc) (2.8.0)\n"
          ],
          "name": "stdout"
        }
      ]
    },
    {
      "cell_type": "code",
      "metadata": {
        "id": "TWeYlGIZ_Ub0",
        "colab_type": "code",
        "colab": {
          "base_uri": "https://localhost:8080/",
          "height": 34
        },
        "outputId": "1ff293b5-32bc-46be-af9b-1136d345f32f"
      },
      "source": [
        "!pip installl mlxtend"
      ],
      "execution_count": 2,
      "outputs": [
        {
          "output_type": "stream",
          "text": [
            "ERROR: unknown command \"installl\" - maybe you meant \"install\"\n"
          ],
          "name": "stdout"
        }
      ]
    },
    {
      "cell_type": "code",
      "metadata": {
        "id": "idYf2IUy_Ytt",
        "colab_type": "code",
        "colab": {}
      },
      "source": [
        "import tensorflow as tf\n",
        "from tensorflow.keras import Sequential\n",
        "from tensorflow.keras.layers import Flatten , Dense , Conv1D , MaxPool1D , Dropout , BatchNormalization\n",
        "from tensorflow.keras.preprocessing.image import ImageDataGenerator\n",
        "from tensorflow.keras.optimizers import Adam"
      ],
      "execution_count": 0,
      "outputs": []
    },
    {
      "cell_type": "code",
      "metadata": {
        "id": "g8AlLjUwAL4z",
        "colab_type": "code",
        "colab": {}
      },
      "source": [
        "import pandas as pd\n",
        "import numpy as np\n",
        "import matplotlib.pyplot as plt\n",
        "import seaborn as sns"
      ],
      "execution_count": 0,
      "outputs": []
    },
    {
      "cell_type": "code",
      "metadata": {
        "id": "1JMsqpZyAffx",
        "colab_type": "code",
        "colab": {}
      },
      "source": [
        "from sklearn import datasets , metrics\n",
        "from sklearn.model_selection import train_test_split\n",
        "from sklearn.preprocessing import StandardScaler"
      ],
      "execution_count": 0,
      "outputs": []
    },
    {
      "cell_type": "code",
      "metadata": {
        "id": "S9HzsV_YA2N6",
        "colab_type": "code",
        "colab": {}
      },
      "source": [
        "cancer = datasets.load_breast_cancer()"
      ],
      "execution_count": 0,
      "outputs": []
    },
    {
      "cell_type": "code",
      "metadata": {
        "id": "BQXytk6qBLwA",
        "colab_type": "code",
        "colab": {}
      },
      "source": [
        "X = pd.DataFrame(data = cancer.data, columns=cancer.feature_names)"
      ],
      "execution_count": 0,
      "outputs": []
    },
    {
      "cell_type": "code",
      "metadata": {
        "id": "GALf8PvVBdwS",
        "colab_type": "code",
        "colab": {
          "base_uri": "https://localhost:8080/",
          "height": 261
        },
        "outputId": "f56830f2-16a7-4d65-d274-aa6248b56dd0"
      },
      "source": [
        "X.head()"
      ],
      "execution_count": 8,
      "outputs": [
        {
          "output_type": "execute_result",
          "data": {
            "text/html": [
              "<div>\n",
              "<style scoped>\n",
              "    .dataframe tbody tr th:only-of-type {\n",
              "        vertical-align: middle;\n",
              "    }\n",
              "\n",
              "    .dataframe tbody tr th {\n",
              "        vertical-align: top;\n",
              "    }\n",
              "\n",
              "    .dataframe thead th {\n",
              "        text-align: right;\n",
              "    }\n",
              "</style>\n",
              "<table border=\"1\" class=\"dataframe\">\n",
              "  <thead>\n",
              "    <tr style=\"text-align: right;\">\n",
              "      <th></th>\n",
              "      <th>mean radius</th>\n",
              "      <th>mean texture</th>\n",
              "      <th>mean perimeter</th>\n",
              "      <th>mean area</th>\n",
              "      <th>mean smoothness</th>\n",
              "      <th>mean compactness</th>\n",
              "      <th>mean concavity</th>\n",
              "      <th>mean concave points</th>\n",
              "      <th>mean symmetry</th>\n",
              "      <th>mean fractal dimension</th>\n",
              "      <th>radius error</th>\n",
              "      <th>texture error</th>\n",
              "      <th>perimeter error</th>\n",
              "      <th>area error</th>\n",
              "      <th>smoothness error</th>\n",
              "      <th>compactness error</th>\n",
              "      <th>concavity error</th>\n",
              "      <th>concave points error</th>\n",
              "      <th>symmetry error</th>\n",
              "      <th>fractal dimension error</th>\n",
              "      <th>worst radius</th>\n",
              "      <th>worst texture</th>\n",
              "      <th>worst perimeter</th>\n",
              "      <th>worst area</th>\n",
              "      <th>worst smoothness</th>\n",
              "      <th>worst compactness</th>\n",
              "      <th>worst concavity</th>\n",
              "      <th>worst concave points</th>\n",
              "      <th>worst symmetry</th>\n",
              "      <th>worst fractal dimension</th>\n",
              "    </tr>\n",
              "  </thead>\n",
              "  <tbody>\n",
              "    <tr>\n",
              "      <th>0</th>\n",
              "      <td>17.99</td>\n",
              "      <td>10.38</td>\n",
              "      <td>122.80</td>\n",
              "      <td>1001.0</td>\n",
              "      <td>0.11840</td>\n",
              "      <td>0.27760</td>\n",
              "      <td>0.3001</td>\n",
              "      <td>0.14710</td>\n",
              "      <td>0.2419</td>\n",
              "      <td>0.07871</td>\n",
              "      <td>1.0950</td>\n",
              "      <td>0.9053</td>\n",
              "      <td>8.589</td>\n",
              "      <td>153.40</td>\n",
              "      <td>0.006399</td>\n",
              "      <td>0.04904</td>\n",
              "      <td>0.05373</td>\n",
              "      <td>0.01587</td>\n",
              "      <td>0.03003</td>\n",
              "      <td>0.006193</td>\n",
              "      <td>25.38</td>\n",
              "      <td>17.33</td>\n",
              "      <td>184.60</td>\n",
              "      <td>2019.0</td>\n",
              "      <td>0.1622</td>\n",
              "      <td>0.6656</td>\n",
              "      <td>0.7119</td>\n",
              "      <td>0.2654</td>\n",
              "      <td>0.4601</td>\n",
              "      <td>0.11890</td>\n",
              "    </tr>\n",
              "    <tr>\n",
              "      <th>1</th>\n",
              "      <td>20.57</td>\n",
              "      <td>17.77</td>\n",
              "      <td>132.90</td>\n",
              "      <td>1326.0</td>\n",
              "      <td>0.08474</td>\n",
              "      <td>0.07864</td>\n",
              "      <td>0.0869</td>\n",
              "      <td>0.07017</td>\n",
              "      <td>0.1812</td>\n",
              "      <td>0.05667</td>\n",
              "      <td>0.5435</td>\n",
              "      <td>0.7339</td>\n",
              "      <td>3.398</td>\n",
              "      <td>74.08</td>\n",
              "      <td>0.005225</td>\n",
              "      <td>0.01308</td>\n",
              "      <td>0.01860</td>\n",
              "      <td>0.01340</td>\n",
              "      <td>0.01389</td>\n",
              "      <td>0.003532</td>\n",
              "      <td>24.99</td>\n",
              "      <td>23.41</td>\n",
              "      <td>158.80</td>\n",
              "      <td>1956.0</td>\n",
              "      <td>0.1238</td>\n",
              "      <td>0.1866</td>\n",
              "      <td>0.2416</td>\n",
              "      <td>0.1860</td>\n",
              "      <td>0.2750</td>\n",
              "      <td>0.08902</td>\n",
              "    </tr>\n",
              "    <tr>\n",
              "      <th>2</th>\n",
              "      <td>19.69</td>\n",
              "      <td>21.25</td>\n",
              "      <td>130.00</td>\n",
              "      <td>1203.0</td>\n",
              "      <td>0.10960</td>\n",
              "      <td>0.15990</td>\n",
              "      <td>0.1974</td>\n",
              "      <td>0.12790</td>\n",
              "      <td>0.2069</td>\n",
              "      <td>0.05999</td>\n",
              "      <td>0.7456</td>\n",
              "      <td>0.7869</td>\n",
              "      <td>4.585</td>\n",
              "      <td>94.03</td>\n",
              "      <td>0.006150</td>\n",
              "      <td>0.04006</td>\n",
              "      <td>0.03832</td>\n",
              "      <td>0.02058</td>\n",
              "      <td>0.02250</td>\n",
              "      <td>0.004571</td>\n",
              "      <td>23.57</td>\n",
              "      <td>25.53</td>\n",
              "      <td>152.50</td>\n",
              "      <td>1709.0</td>\n",
              "      <td>0.1444</td>\n",
              "      <td>0.4245</td>\n",
              "      <td>0.4504</td>\n",
              "      <td>0.2430</td>\n",
              "      <td>0.3613</td>\n",
              "      <td>0.08758</td>\n",
              "    </tr>\n",
              "    <tr>\n",
              "      <th>3</th>\n",
              "      <td>11.42</td>\n",
              "      <td>20.38</td>\n",
              "      <td>77.58</td>\n",
              "      <td>386.1</td>\n",
              "      <td>0.14250</td>\n",
              "      <td>0.28390</td>\n",
              "      <td>0.2414</td>\n",
              "      <td>0.10520</td>\n",
              "      <td>0.2597</td>\n",
              "      <td>0.09744</td>\n",
              "      <td>0.4956</td>\n",
              "      <td>1.1560</td>\n",
              "      <td>3.445</td>\n",
              "      <td>27.23</td>\n",
              "      <td>0.009110</td>\n",
              "      <td>0.07458</td>\n",
              "      <td>0.05661</td>\n",
              "      <td>0.01867</td>\n",
              "      <td>0.05963</td>\n",
              "      <td>0.009208</td>\n",
              "      <td>14.91</td>\n",
              "      <td>26.50</td>\n",
              "      <td>98.87</td>\n",
              "      <td>567.7</td>\n",
              "      <td>0.2098</td>\n",
              "      <td>0.8663</td>\n",
              "      <td>0.6869</td>\n",
              "      <td>0.2575</td>\n",
              "      <td>0.6638</td>\n",
              "      <td>0.17300</td>\n",
              "    </tr>\n",
              "    <tr>\n",
              "      <th>4</th>\n",
              "      <td>20.29</td>\n",
              "      <td>14.34</td>\n",
              "      <td>135.10</td>\n",
              "      <td>1297.0</td>\n",
              "      <td>0.10030</td>\n",
              "      <td>0.13280</td>\n",
              "      <td>0.1980</td>\n",
              "      <td>0.10430</td>\n",
              "      <td>0.1809</td>\n",
              "      <td>0.05883</td>\n",
              "      <td>0.7572</td>\n",
              "      <td>0.7813</td>\n",
              "      <td>5.438</td>\n",
              "      <td>94.44</td>\n",
              "      <td>0.011490</td>\n",
              "      <td>0.02461</td>\n",
              "      <td>0.05688</td>\n",
              "      <td>0.01885</td>\n",
              "      <td>0.01756</td>\n",
              "      <td>0.005115</td>\n",
              "      <td>22.54</td>\n",
              "      <td>16.67</td>\n",
              "      <td>152.20</td>\n",
              "      <td>1575.0</td>\n",
              "      <td>0.1374</td>\n",
              "      <td>0.2050</td>\n",
              "      <td>0.4000</td>\n",
              "      <td>0.1625</td>\n",
              "      <td>0.2364</td>\n",
              "      <td>0.07678</td>\n",
              "    </tr>\n",
              "  </tbody>\n",
              "</table>\n",
              "</div>"
            ],
            "text/plain": [
              "   mean radius  mean texture  ...  worst symmetry  worst fractal dimension\n",
              "0        17.99         10.38  ...          0.4601                  0.11890\n",
              "1        20.57         17.77  ...          0.2750                  0.08902\n",
              "2        19.69         21.25  ...          0.3613                  0.08758\n",
              "3        11.42         20.38  ...          0.6638                  0.17300\n",
              "4        20.29         14.34  ...          0.2364                  0.07678\n",
              "\n",
              "[5 rows x 30 columns]"
            ]
          },
          "metadata": {
            "tags": []
          },
          "execution_count": 8
        }
      ]
    },
    {
      "cell_type": "code",
      "metadata": {
        "id": "UgUMss78BfUm",
        "colab_type": "code",
        "colab": {}
      },
      "source": [
        "y = cancer.target"
      ],
      "execution_count": 0,
      "outputs": []
    },
    {
      "cell_type": "code",
      "metadata": {
        "id": "x1A8rupDB4KO",
        "colab_type": "code",
        "colab": {
          "base_uri": "https://localhost:8080/",
          "height": 34
        },
        "outputId": "ae8854e5-21e7-4407-9682-68c3b4e768b3"
      },
      "source": [
        "cancer.target_names"
      ],
      "execution_count": 10,
      "outputs": [
        {
          "output_type": "execute_result",
          "data": {
            "text/plain": [
              "array(['malignant', 'benign'], dtype='<U9')"
            ]
          },
          "metadata": {
            "tags": []
          },
          "execution_count": 10
        }
      ]
    },
    {
      "cell_type": "code",
      "metadata": {
        "id": "VLZRXkrlB6xx",
        "colab_type": "code",
        "colab": {}
      },
      "source": [
        "X_train,X_test,y_train,y_test = train_test_split(X,y,test_size = 0.2 , random_state = 0, stratify = y)"
      ],
      "execution_count": 0,
      "outputs": []
    },
    {
      "cell_type": "code",
      "metadata": {
        "id": "pNxYg4edCYE8",
        "colab_type": "code",
        "colab": {
          "base_uri": "https://localhost:8080/",
          "height": 34
        },
        "outputId": "1caa3e5c-2b89-446f-b989-4c78b3fa0f4c"
      },
      "source": [
        "print(X_test.shape,X_train.shape)"
      ],
      "execution_count": 12,
      "outputs": [
        {
          "output_type": "stream",
          "text": [
            "(114, 30) (455, 30)\n"
          ],
          "name": "stdout"
        }
      ]
    },
    {
      "cell_type": "code",
      "metadata": {
        "id": "y9EAI6EWD1x9",
        "colab_type": "code",
        "colab": {}
      },
      "source": [
        "scalar = StandardScaler()\n",
        "X_train = scalar.fit_transform(X_train)\n",
        "X_test = scalar.transform(X_test)"
      ],
      "execution_count": 0,
      "outputs": []
    },
    {
      "cell_type": "code",
      "metadata": {
        "id": "EiUwepZxDT3F",
        "colab_type": "code",
        "colab": {}
      },
      "source": [
        "X_train = X_train.reshape(455,30,1)\n",
        "X_test = X_test.reshape(114,30,1)"
      ],
      "execution_count": 0,
      "outputs": []
    },
    {
      "cell_type": "code",
      "metadata": {
        "id": "fqXGtVLADfRN",
        "colab_type": "code",
        "colab": {}
      },
      "source": [
        "model = Sequential()\n",
        "model.add(Conv1D(32,kernel_size = 2,activation='relu',input_shape=(30,1)))\n",
        "model.add(BatchNormalization())\n",
        "model.add(Dropout(0.2))\n",
        "\n",
        "model.add(Conv1D(64,kernel_size = 2,activation='relu'))\n",
        "model.add(BatchNormalization())\n",
        "model.add(Dropout(0.5))\n",
        "\n",
        "model.add(Flatten())\n",
        "model.add(Dense(64,activation = 'relu'))\n",
        "model.add(Dropout(0.5))\n",
        "model.add(Dense(1,activation = 'sigmoid'))"
      ],
      "execution_count": 0,
      "outputs": []
    },
    {
      "cell_type": "code",
      "metadata": {
        "id": "mcoZ1jfKFMb9",
        "colab_type": "code",
        "colab": {
          "base_uri": "https://localhost:8080/",
          "height": 503
        },
        "outputId": "9a497d18-13b2-4a0b-cde7-ddac8f00b06e"
      },
      "source": [
        "model.summary()"
      ],
      "execution_count": 16,
      "outputs": [
        {
          "output_type": "stream",
          "text": [
            "Model: \"sequential\"\n",
            "_________________________________________________________________\n",
            "Layer (type)                 Output Shape              Param #   \n",
            "=================================================================\n",
            "conv1d (Conv1D)              (None, 29, 32)            96        \n",
            "_________________________________________________________________\n",
            "batch_normalization (BatchNo (None, 29, 32)            128       \n",
            "_________________________________________________________________\n",
            "dropout (Dropout)            (None, 29, 32)            0         \n",
            "_________________________________________________________________\n",
            "conv1d_1 (Conv1D)            (None, 28, 64)            4160      \n",
            "_________________________________________________________________\n",
            "batch_normalization_1 (Batch (None, 28, 64)            256       \n",
            "_________________________________________________________________\n",
            "dropout_1 (Dropout)          (None, 28, 64)            0         \n",
            "_________________________________________________________________\n",
            "flatten (Flatten)            (None, 1792)              0         \n",
            "_________________________________________________________________\n",
            "dense (Dense)                (None, 64)                114752    \n",
            "_________________________________________________________________\n",
            "dropout_2 (Dropout)          (None, 64)                0         \n",
            "_________________________________________________________________\n",
            "dense_1 (Dense)              (None, 1)                 65        \n",
            "=================================================================\n",
            "Total params: 119,457\n",
            "Trainable params: 119,265\n",
            "Non-trainable params: 192\n",
            "_________________________________________________________________\n"
          ],
          "name": "stdout"
        }
      ]
    },
    {
      "cell_type": "code",
      "metadata": {
        "id": "Ywj1zujzFV-g",
        "colab_type": "code",
        "colab": {}
      },
      "source": [
        "model.compile(optimizer=Adam(lr = 0.00005),loss = 'binary_crossentropy',metrics = ['accuracy'])"
      ],
      "execution_count": 0,
      "outputs": []
    },
    {
      "cell_type": "code",
      "metadata": {
        "id": "y_2-I9ECFm1D",
        "colab_type": "code",
        "colab": {
          "base_uri": "https://localhost:8080/",
          "height": 1000
        },
        "outputId": "f3ae29da-dff1-4592-c1cc-977b2a88c06d"
      },
      "source": [
        "history = model.fit(X_train,y_train,10,50,1,validation_data=(X_test,y_test))"
      ],
      "execution_count": 18,
      "outputs": [
        {
          "output_type": "stream",
          "text": [
            "Train on 455 samples, validate on 114 samples\n",
            "Epoch 1/50\n",
            "WARNING:tensorflow:From /usr/local/lib/python3.6/dist-packages/tensorflow_core/python/ops/nn_impl.py:183: where (from tensorflow.python.ops.array_ops) is deprecated and will be removed in a future version.\n",
            "Instructions for updating:\n",
            "Use tf.where in 2.0, which has the same broadcast rule as np.where\n",
            "455/455 [==============================] - 2s 4ms/sample - loss: 0.7070 - accuracy: 0.6637 - val_loss: 0.5859 - val_accuracy: 0.8860\n",
            "Epoch 2/50\n",
            "455/455 [==============================] - 0s 824us/sample - loss: 0.5228 - accuracy: 0.7824 - val_loss: 0.4788 - val_accuracy: 0.8684\n",
            "Epoch 3/50\n",
            "455/455 [==============================] - 0s 812us/sample - loss: 0.3224 - accuracy: 0.8571 - val_loss: 0.3934 - val_accuracy: 0.8596\n",
            "Epoch 4/50\n",
            "455/455 [==============================] - 0s 864us/sample - loss: 0.3092 - accuracy: 0.8681 - val_loss: 0.3228 - val_accuracy: 0.8772\n",
            "Epoch 5/50\n",
            "455/455 [==============================] - 0s 838us/sample - loss: 0.2880 - accuracy: 0.8835 - val_loss: 0.2681 - val_accuracy: 0.9211\n",
            "Epoch 6/50\n",
            "455/455 [==============================] - 0s 829us/sample - loss: 0.3144 - accuracy: 0.8901 - val_loss: 0.2242 - val_accuracy: 0.9298\n",
            "Epoch 7/50\n",
            "455/455 [==============================] - 0s 803us/sample - loss: 0.2215 - accuracy: 0.9033 - val_loss: 0.1885 - val_accuracy: 0.9474\n",
            "Epoch 8/50\n",
            "455/455 [==============================] - 0s 808us/sample - loss: 0.2247 - accuracy: 0.9165 - val_loss: 0.1593 - val_accuracy: 0.9474\n",
            "Epoch 9/50\n",
            "455/455 [==============================] - 0s 815us/sample - loss: 0.2142 - accuracy: 0.9121 - val_loss: 0.1362 - val_accuracy: 0.9386\n",
            "Epoch 10/50\n",
            "455/455 [==============================] - 0s 800us/sample - loss: 0.2094 - accuracy: 0.9231 - val_loss: 0.1192 - val_accuracy: 0.9561\n",
            "Epoch 11/50\n",
            "455/455 [==============================] - 0s 824us/sample - loss: 0.2075 - accuracy: 0.9275 - val_loss: 0.1113 - val_accuracy: 0.9561\n",
            "Epoch 12/50\n",
            "455/455 [==============================] - 0s 847us/sample - loss: 0.1773 - accuracy: 0.9209 - val_loss: 0.1048 - val_accuracy: 0.9561\n",
            "Epoch 13/50\n",
            "455/455 [==============================] - 0s 811us/sample - loss: 0.1683 - accuracy: 0.9231 - val_loss: 0.1034 - val_accuracy: 0.9649\n",
            "Epoch 14/50\n",
            "455/455 [==============================] - 0s 842us/sample - loss: 0.2064 - accuracy: 0.9231 - val_loss: 0.1015 - val_accuracy: 0.9649\n",
            "Epoch 15/50\n",
            "455/455 [==============================] - 0s 839us/sample - loss: 0.1529 - accuracy: 0.9429 - val_loss: 0.0992 - val_accuracy: 0.9649\n",
            "Epoch 16/50\n",
            "455/455 [==============================] - 0s 815us/sample - loss: 0.1318 - accuracy: 0.9582 - val_loss: 0.0980 - val_accuracy: 0.9649\n",
            "Epoch 17/50\n",
            "455/455 [==============================] - 0s 808us/sample - loss: 0.1311 - accuracy: 0.9495 - val_loss: 0.0969 - val_accuracy: 0.9649\n",
            "Epoch 18/50\n",
            "455/455 [==============================] - 0s 839us/sample - loss: 0.1426 - accuracy: 0.9473 - val_loss: 0.0973 - val_accuracy: 0.9649\n",
            "Epoch 19/50\n",
            "455/455 [==============================] - 0s 840us/sample - loss: 0.1532 - accuracy: 0.9297 - val_loss: 0.0980 - val_accuracy: 0.9649\n",
            "Epoch 20/50\n",
            "455/455 [==============================] - 0s 806us/sample - loss: 0.1309 - accuracy: 0.9473 - val_loss: 0.0973 - val_accuracy: 0.9649\n",
            "Epoch 21/50\n",
            "455/455 [==============================] - 0s 844us/sample - loss: 0.1848 - accuracy: 0.9385 - val_loss: 0.0949 - val_accuracy: 0.9737\n",
            "Epoch 22/50\n",
            "455/455 [==============================] - 0s 820us/sample - loss: 0.1700 - accuracy: 0.9451 - val_loss: 0.0939 - val_accuracy: 0.9737\n",
            "Epoch 23/50\n",
            "455/455 [==============================] - 0s 831us/sample - loss: 0.1481 - accuracy: 0.9407 - val_loss: 0.0939 - val_accuracy: 0.9737\n",
            "Epoch 24/50\n",
            "455/455 [==============================] - 0s 822us/sample - loss: 0.1010 - accuracy: 0.9626 - val_loss: 0.0933 - val_accuracy: 0.9737\n",
            "Epoch 25/50\n",
            "455/455 [==============================] - 0s 826us/sample - loss: 0.1136 - accuracy: 0.9582 - val_loss: 0.0928 - val_accuracy: 0.9737\n",
            "Epoch 26/50\n",
            "455/455 [==============================] - 0s 811us/sample - loss: 0.1317 - accuracy: 0.9341 - val_loss: 0.0939 - val_accuracy: 0.9737\n",
            "Epoch 27/50\n",
            "455/455 [==============================] - 0s 783us/sample - loss: 0.1319 - accuracy: 0.9582 - val_loss: 0.0939 - val_accuracy: 0.9737\n",
            "Epoch 28/50\n",
            "455/455 [==============================] - 0s 813us/sample - loss: 0.1183 - accuracy: 0.9604 - val_loss: 0.0932 - val_accuracy: 0.9737\n",
            "Epoch 29/50\n",
            "455/455 [==============================] - 0s 880us/sample - loss: 0.1419 - accuracy: 0.9451 - val_loss: 0.0940 - val_accuracy: 0.9737\n",
            "Epoch 30/50\n",
            "455/455 [==============================] - 0s 883us/sample - loss: 0.1027 - accuracy: 0.9692 - val_loss: 0.0926 - val_accuracy: 0.9737\n",
            "Epoch 31/50\n",
            "455/455 [==============================] - 0s 860us/sample - loss: 0.0948 - accuracy: 0.9626 - val_loss: 0.0937 - val_accuracy: 0.9737\n",
            "Epoch 32/50\n",
            "455/455 [==============================] - 0s 833us/sample - loss: 0.1239 - accuracy: 0.9626 - val_loss: 0.0941 - val_accuracy: 0.9737\n",
            "Epoch 33/50\n",
            "455/455 [==============================] - 0s 809us/sample - loss: 0.1092 - accuracy: 0.9626 - val_loss: 0.0938 - val_accuracy: 0.9737\n",
            "Epoch 34/50\n",
            "455/455 [==============================] - 0s 803us/sample - loss: 0.1127 - accuracy: 0.9670 - val_loss: 0.0948 - val_accuracy: 0.9737\n",
            "Epoch 35/50\n",
            "455/455 [==============================] - 0s 815us/sample - loss: 0.1474 - accuracy: 0.9560 - val_loss: 0.0927 - val_accuracy: 0.9737\n",
            "Epoch 36/50\n",
            "455/455 [==============================] - 0s 807us/sample - loss: 0.1497 - accuracy: 0.9385 - val_loss: 0.0925 - val_accuracy: 0.9737\n",
            "Epoch 37/50\n",
            "455/455 [==============================] - 0s 838us/sample - loss: 0.1310 - accuracy: 0.9495 - val_loss: 0.0926 - val_accuracy: 0.9737\n",
            "Epoch 38/50\n",
            "455/455 [==============================] - 0s 836us/sample - loss: 0.1024 - accuracy: 0.9714 - val_loss: 0.0963 - val_accuracy: 0.9737\n",
            "Epoch 39/50\n",
            "455/455 [==============================] - 0s 810us/sample - loss: 0.1117 - accuracy: 0.9582 - val_loss: 0.0971 - val_accuracy: 0.9737\n",
            "Epoch 40/50\n",
            "455/455 [==============================] - 0s 809us/sample - loss: 0.1361 - accuracy: 0.9538 - val_loss: 0.0974 - val_accuracy: 0.9737\n",
            "Epoch 41/50\n",
            "455/455 [==============================] - 0s 853us/sample - loss: 0.1196 - accuracy: 0.9495 - val_loss: 0.1000 - val_accuracy: 0.9649\n",
            "Epoch 42/50\n",
            "455/455 [==============================] - 0s 830us/sample - loss: 0.1405 - accuracy: 0.9429 - val_loss: 0.0984 - val_accuracy: 0.9649\n",
            "Epoch 43/50\n",
            "455/455 [==============================] - 0s 823us/sample - loss: 0.0975 - accuracy: 0.9714 - val_loss: 0.0972 - val_accuracy: 0.9649\n",
            "Epoch 44/50\n",
            "455/455 [==============================] - 0s 840us/sample - loss: 0.1142 - accuracy: 0.9626 - val_loss: 0.0946 - val_accuracy: 0.9649\n",
            "Epoch 45/50\n",
            "455/455 [==============================] - 0s 808us/sample - loss: 0.1031 - accuracy: 0.9604 - val_loss: 0.0934 - val_accuracy: 0.9737\n",
            "Epoch 46/50\n",
            "455/455 [==============================] - 0s 861us/sample - loss: 0.0860 - accuracy: 0.9626 - val_loss: 0.0922 - val_accuracy: 0.9737\n",
            "Epoch 47/50\n",
            "455/455 [==============================] - 0s 800us/sample - loss: 0.1192 - accuracy: 0.9495 - val_loss: 0.0934 - val_accuracy: 0.9737\n",
            "Epoch 48/50\n",
            "455/455 [==============================] - 0s 821us/sample - loss: 0.1026 - accuracy: 0.9560 - val_loss: 0.0926 - val_accuracy: 0.9737\n",
            "Epoch 49/50\n",
            "455/455 [==============================] - 0s 834us/sample - loss: 0.1089 - accuracy: 0.9626 - val_loss: 0.0906 - val_accuracy: 0.9737\n",
            "Epoch 50/50\n",
            "455/455 [==============================] - 0s 804us/sample - loss: 0.1012 - accuracy: 0.9670 - val_loss: 0.0925 - val_accuracy: 0.9737\n"
          ],
          "name": "stdout"
        }
      ]
    },
    {
      "cell_type": "code",
      "metadata": {
        "id": "Vhytj0jbFzQU",
        "colab_type": "code",
        "colab": {
          "base_uri": "https://localhost:8080/",
          "height": 549
        },
        "outputId": "f39cf852-ed87-4cb1-bbcb-0f1262c2affe"
      },
      "source": [
        "epoch_Range = range(1,51)\n",
        "plt.plot(epoch_Range,history.history['accuracy'])\n",
        "plt.plot(epoch_Range,history.history['val_accuracy'])\n",
        "plt.xlabel('epochs')\n",
        "plt.ylabel('accuracy')\n",
        "plt.legend(['Train','Val'])\n",
        "plt.show()\n",
        "plt.plot(epoch_Range,history.history['loss'])\n",
        "plt.plot(epoch_Range,history.history['val_loss'])\n",
        "plt.xlabel('epochs')\n",
        "plt.ylabel('loss')\n",
        "plt.legend(['Train','Val'])\n",
        "plt.show()"
      ],
      "execution_count": 19,
      "outputs": [
        {
          "output_type": "display_data",
          "data": {
            "image/png": "[encoded data removed]",
            "text/plain": [
              "<Figure size 432x288 with 1 Axes>"
            ]
          },
          "metadata": {
            "tags": []
          }
        },
        {
          "output_type": "display_data",
          "data": {
            "image/png": "[encoded data removed]",
            "text/plain": [
              "<Figure size 432x288 with 1 Axes>"
            ]
          },
          "metadata": {
            "tags": []
          }
        }
      ]
    },
    {
      "cell_type": "code",
      "metadata": {
        "id": "KJ9dVrUJHUp2",
        "colab_type": "code",
        "colab": {}
      },
      "source": [
        ""
      ],
      "execution_count": 0,
      "outputs": []
    }
  ]
}