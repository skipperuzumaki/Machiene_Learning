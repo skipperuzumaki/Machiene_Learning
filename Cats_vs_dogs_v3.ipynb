{
  "nbformat": 4,
  "nbformat_minor": 0,
  "metadata": {
    "colab": {
      "name": "Cats_vs_dogs_v3.ipynb",
      "provenance": [],
      "collapsed_sections": []
    },
    "kernelspec": {
      "name": "python3",
      "display_name": "Python 3"
    }
  },
  "cells": [
    {
      "cell_type": "code",
      "metadata": {
        "id": "ewPaa4phrZCw",
        "colab_type": "code",
        "outputId": "1f2902ee-3cf2-4fe7-9193-fb0bac64de83",
        "colab": {
          "base_uri": "https://localhost:8080/",
          "height": 402
        }
      },
      "source": [
        " !pip install tensorflow-gpu==2.0.0rc0"
      ],
      "execution_count": 1,
      "outputs": [
        {
          "output_type": "stream",
          "text": [
            "Requirement already satisfied: tensorflow-gpu==2.0.0rc0 in /usr/local/lib/python3.6/dist-packages (2.0.0rc0)\n",
            "Requirement already satisfied: numpy<2.0,>=1.16.0 in /usr/local/lib/python3.6/dist-packages (from tensorflow-gpu==2.0.0rc0) (1.16.5)\n",
            "Requirement already satisfied: astor>=0.6.0 in /usr/local/lib/python3.6/dist-packages (from tensorflow-gpu==2.0.0rc0) (0.8.0)\n",
            "Requirement already satisfied: six>=1.10.0 in /usr/local/lib/python3.6/dist-packages (from tensorflow-gpu==2.0.0rc0) (1.12.0)\n",
            "Requirement already satisfied: gast>=0.2.0 in /usr/local/lib/python3.6/dist-packages (from tensorflow-gpu==2.0.0rc0) (0.2.2)\n",
            "Requirement already satisfied: absl-py>=0.7.0 in /usr/local/lib/python3.6/dist-packages (from tensorflow-gpu==2.0.0rc0) (0.8.0)\n",
            "Requirement already satisfied: opt-einsum>=2.3.2 in /usr/local/lib/python3.6/dist-packages (from tensorflow-gpu==2.0.0rc0) (3.1.0)\n",
            "Requirement already satisfied: grpcio>=1.8.6 in /usr/local/lib/python3.6/dist-packages (from tensorflow-gpu==2.0.0rc0) (1.15.0)\n",
            "Requirement already satisfied: keras-preprocessing>=1.0.5 in /usr/local/lib/python3.6/dist-packages (from tensorflow-gpu==2.0.0rc0) (1.1.0)\n",
            "Requirement already satisfied: tb-nightly<1.15.0a20190807,>=1.15.0a20190806 in /usr/local/lib/python3.6/dist-packages (from tensorflow-gpu==2.0.0rc0) (1.15.0a20190806)\n",
            "Requirement already satisfied: termcolor>=1.1.0 in /usr/local/lib/python3.6/dist-packages (from tensorflow-gpu==2.0.0rc0) (1.1.0)\n",
            "Requirement already satisfied: google-pasta>=0.1.6 in /usr/local/lib/python3.6/dist-packages (from tensorflow-gpu==2.0.0rc0) (0.1.7)\n",
            "Requirement already satisfied: protobuf>=3.6.1 in /usr/local/lib/python3.6/dist-packages (from tensorflow-gpu==2.0.0rc0) (3.7.1)\n",
            "Requirement already satisfied: tf-estimator-nightly<1.14.0.dev2019080602,>=1.14.0.dev2019080601 in /usr/local/lib/python3.6/dist-packages (from tensorflow-gpu==2.0.0rc0) (1.14.0.dev2019080601)\n",
            "Requirement already satisfied: wrapt>=1.11.1 in /usr/local/lib/python3.6/dist-packages (from tensorflow-gpu==2.0.0rc0) (1.11.2)\n",
            "Requirement already satisfied: wheel>=0.26 in /usr/local/lib/python3.6/dist-packages (from tensorflow-gpu==2.0.0rc0) (0.33.6)\n",
            "Requirement already satisfied: keras-applications>=1.0.8 in /usr/local/lib/python3.6/dist-packages (from tensorflow-gpu==2.0.0rc0) (1.0.8)\n",
            "Requirement already satisfied: setuptools>=41.0.0 in /usr/local/lib/python3.6/dist-packages (from tb-nightly<1.15.0a20190807,>=1.15.0a20190806->tensorflow-gpu==2.0.0rc0) (41.2.0)\n",
            "Requirement already satisfied: markdown>=2.6.8 in /usr/local/lib/python3.6/dist-packages (from tb-nightly<1.15.0a20190807,>=1.15.0a20190806->tensorflow-gpu==2.0.0rc0) (3.1.1)\n",
            "Requirement already satisfied: werkzeug>=0.11.15 in /usr/local/lib/python3.6/dist-packages (from tb-nightly<1.15.0a20190807,>=1.15.0a20190806->tensorflow-gpu==2.0.0rc0) (0.16.0)\n",
            "Requirement already satisfied: h5py in /usr/local/lib/python3.6/dist-packages (from keras-applications>=1.0.8->tensorflow-gpu==2.0.0rc0) (2.8.0)\n"
          ],
          "name": "stdout"
        }
      ]
    },
    {
      "cell_type": "code",
      "metadata": {
        "id": "DOcOM7CrI_3b",
        "colab_type": "code",
        "colab": {}
      },
      "source": [
        "import tensorflow as tf\n",
        "from tensorflow import keras\n",
        "from tensorflow.keras import Sequential\n",
        "from tensorflow.keras.layers import Flatten,Dense,Conv2D,MaxPool2D,ZeroPadding2D,Dropout,BatchNormalization\n",
        "from tensorflow.keras.optimizers import SGD"
      ],
      "execution_count": 0,
      "outputs": []
    },
    {
      "cell_type": "code",
      "metadata": {
        "id": "MY6sFST4Kk3f",
        "colab_type": "code",
        "colab": {}
      },
      "source": [
        "from tensorflow.keras.preprocessing.image import ImageDataGenerator"
      ],
      "execution_count": 0,
      "outputs": []
    },
    {
      "cell_type": "code",
      "metadata": {
        "id": "WU_orpg9Jxj3",
        "colab_type": "code",
        "colab": {}
      },
      "source": [
        "import numpy as np\n",
        "import pandas as pd\n",
        "import matplotlib.pyplot as plt"
      ],
      "execution_count": 0,
      "outputs": []
    },
    {
      "cell_type": "code",
      "metadata": {
        "id": "GMeARewWbJKp",
        "colab_type": "code",
        "colab": {}
      },
      "source": [
        "import cv2"
      ],
      "execution_count": 0,
      "outputs": []
    },
    {
      "cell_type": "code",
      "metadata": {
        "id": "ndgS1ytKJ_1M",
        "colab_type": "code",
        "outputId": "da371fa7-54b7-4bb9-eaac-ae09f07fe25d",
        "colab": {
          "base_uri": "https://localhost:8080/",
          "height": 34
        }
      },
      "source": [
        "!git clone https://github.com/laxmimerit/dog-cat-full-dataset"
      ],
      "execution_count": 6,
      "outputs": [
        {
          "output_type": "stream",
          "text": [
            "fatal: destination path 'dog-cat-full-dataset' already exists and is not an empty directory.\n"
          ],
          "name": "stdout"
        }
      ]
    },
    {
      "cell_type": "code",
      "metadata": {
        "id": "bQeXYK1QKz78",
        "colab_type": "code",
        "colab": {}
      },
      "source": [
        "Test_data_dir = '/content/dog-cat-full-dataset/data/test'"
      ],
      "execution_count": 0,
      "outputs": []
    },
    {
      "cell_type": "code",
      "metadata": {
        "id": "BZ7uMxO2LGp6",
        "colab_type": "code",
        "colab": {}
      },
      "source": [
        "Train_data_dir = '/content/dog-cat-full-dataset/data/train'"
      ],
      "execution_count": 0,
      "outputs": []
    },
    {
      "cell_type": "code",
      "metadata": {
        "id": "LqgolsV-LKs9",
        "colab_type": "code",
        "colab": {}
      },
      "source": [
        "img_size = (32,32)\n",
        "batch_size = 20"
      ],
      "execution_count": 0,
      "outputs": []
    },
    {
      "cell_type": "code",
      "metadata": {
        "id": "3ywXIMuxLYJF",
        "colab_type": "code",
        "colab": {}
      },
      "source": [
        "datagen = ImageDataGenerator(rescale=(1.0/255.0))"
      ],
      "execution_count": 0,
      "outputs": []
    },
    {
      "cell_type": "code",
      "metadata": {
        "id": "BttMrl_lLzMJ",
        "colab_type": "code",
        "outputId": "e07a01b0-a1b3-49e1-e92e-5e1a0a4e0d6b",
        "colab": {
          "base_uri": "https://localhost:8080/",
          "height": 34
        }
      },
      "source": [
        "train_gen = datagen.flow_from_directory(Train_data_dir,img_size,classes=['cats','dogs'],class_mode='binary',batch_size=batch_size)"
      ],
      "execution_count": 11,
      "outputs": [
        {
          "output_type": "stream",
          "text": [
            "Found 20000 images belonging to 2 classes.\n"
          ],
          "name": "stdout"
        }
      ]
    },
    {
      "cell_type": "code",
      "metadata": {
        "id": "fPZ9WKvNMd0_",
        "colab_type": "code",
        "outputId": "c110aee0-9f67-41f6-e1ac-c1651584939e",
        "colab": {
          "base_uri": "https://localhost:8080/",
          "height": 34
        }
      },
      "source": [
        "test_gen = datagen.flow_from_directory(Test_data_dir,img_size,classes=['cats','dogs'],class_mode='binary',batch_size=batch_size)"
      ],
      "execution_count": 12,
      "outputs": [
        {
          "output_type": "stream",
          "text": [
            "Found 5000 images belonging to 2 classes.\n"
          ],
          "name": "stdout"
        }
      ]
    },
    {
      "cell_type": "markdown",
      "metadata": {
        "id": "1n_KUzNFN1hn",
        "colab_type": "text"
      },
      "source": [
        "<h1>Build Base CNN Model"
      ]
    },
    {
      "cell_type": "code",
      "metadata": {
        "id": "x8HwK7-yN7uw",
        "colab_type": "code",
        "colab": {}
      },
      "source": [
        "model = Sequential()\n",
        "model.add(Conv2D(32, (3, 3), activation='relu', kernel_initializer='he_uniform', padding='same', input_shape=(img_size[0], img_size[1], 3)))\n",
        "model.add(MaxPool2D((2, 2)))\n",
        "model.add(Dropout(0.1))\n",
        "model.add(Conv2D(64, (3, 3), activation='relu', kernel_initializer='he_uniform', padding='same'))\n",
        "model.add(MaxPool2D((2, 2)))\n",
        "model.add(Dropout(0.2))\n",
        "model.add(Conv2D(128, (3, 3), activation='relu', kernel_initializer='he_uniform', padding='same'))\n",
        "model.add(MaxPool2D((2, 2)))\n",
        "model.add(Flatten())\n",
        "model.add(Dense(128, activation='relu', kernel_initializer='he_uniform'))\n",
        "model.add(Dropout(0.3))\n",
        "model.add(Dense(1, activation='sigmoid'))"
      ],
      "execution_count": 0,
      "outputs": []
    },
    {
      "cell_type": "code",
      "metadata": {
        "id": "aYW-nyBkPWmB",
        "colab_type": "code",
        "colab": {}
      },
      "source": [
        "opt = SGD(learning_rate=0.001,momentum=0.9)\n",
        "model.compile(optimizer=opt,loss = 'binary_crossentropy',metrics=['accuracy'])"
      ],
      "execution_count": 0,
      "outputs": []
    },
    {
      "cell_type": "code",
      "metadata": {
        "id": "FEQBpMO4Qc3y",
        "colab_type": "code",
        "outputId": "df2bfdea-9514-43e3-ba48-61b4a43c06d0",
        "colab": {
          "base_uri": "https://localhost:8080/",
          "height": 573
        }
      },
      "source": [
        "model.summary()"
      ],
      "execution_count": 15,
      "outputs": [
        {
          "output_type": "stream",
          "text": [
            "Model: \"sequential\"\n",
            "_________________________________________________________________\n",
            "Layer (type)                 Output Shape              Param #   \n",
            "=================================================================\n",
            "conv2d (Conv2D)              (None, 32, 32, 32)        896       \n",
            "_________________________________________________________________\n",
            "max_pooling2d (MaxPooling2D) (None, 16, 16, 32)        0         \n",
            "_________________________________________________________________\n",
            "dropout (Dropout)            (None, 16, 16, 32)        0         \n",
            "_________________________________________________________________\n",
            "conv2d_1 (Conv2D)            (None, 16, 16, 64)        18496     \n",
            "_________________________________________________________________\n",
            "max_pooling2d_1 (MaxPooling2 (None, 8, 8, 64)          0         \n",
            "_________________________________________________________________\n",
            "dropout_1 (Dropout)          (None, 8, 8, 64)          0         \n",
            "_________________________________________________________________\n",
            "conv2d_2 (Conv2D)            (None, 8, 8, 128)         73856     \n",
            "_________________________________________________________________\n",
            "max_pooling2d_2 (MaxPooling2 (None, 4, 4, 128)         0         \n",
            "_________________________________________________________________\n",
            "flatten (Flatten)            (None, 2048)              0         \n",
            "_________________________________________________________________\n",
            "dense (Dense)                (None, 128)               262272    \n",
            "_________________________________________________________________\n",
            "dropout_2 (Dropout)          (None, 128)               0         \n",
            "_________________________________________________________________\n",
            "dense_1 (Dense)              (None, 1)                 129       \n",
            "=================================================================\n",
            "Total params: 355,649\n",
            "Trainable params: 355,649\n",
            "Non-trainable params: 0\n",
            "_________________________________________________________________\n"
          ],
          "name": "stdout"
        }
      ]
    },
    {
      "cell_type": "code",
      "metadata": {
        "id": "-YLzDHAPPslh",
        "colab_type": "code",
        "outputId": "782346e8-d928-4ed9-cdd3-08f5af7e0da8",
        "colab": {
          "base_uri": "https://localhost:8080/",
          "height": 610
        }
      },
      "source": [
        "history = model.fit_generator(train_gen,len(train_gen),15,validation_data=test_gen,validation_steps=len(test_gen),verbose = 1)"
      ],
      "execution_count": 16,
      "outputs": [
        {
          "output_type": "stream",
          "text": [
            "Epoch 1/15\n",
            "WARNING:tensorflow:From /usr/local/lib/python3.6/dist-packages/tensorflow_core/python/ops/math_grad.py:1394: where (from tensorflow.python.ops.array_ops) is deprecated and will be removed in a future version.\n",
            "Instructions for updating:\n",
            "Use tf.where in 2.0, which has the same broadcast rule as np.where\n",
            "1000/1000 [==============================] - 116s 116ms/step - loss: 0.6904 - accuracy: 0.5509 - val_loss: 0.6751 - val_accuracy: 0.6012\n",
            "Epoch 2/15\n",
            "1000/1000 [==============================] - 115s 115ms/step - loss: 0.6673 - accuracy: 0.5933 - val_loss: 0.6421 - val_accuracy: 0.6596\n",
            "Epoch 3/15\n",
            "1000/1000 [==============================] - 115s 115ms/step - loss: 0.6399 - accuracy: 0.6317 - val_loss: 0.6169 - val_accuracy: 0.6674\n",
            "Epoch 4/15\n",
            "1000/1000 [==============================] - 119s 119ms/step - loss: 0.6176 - accuracy: 0.6597 - val_loss: 0.5942 - val_accuracy: 0.6946\n",
            "Epoch 5/15\n",
            "1000/1000 [==============================] - 114s 114ms/step - loss: 0.5998 - accuracy: 0.6741 - val_loss: 0.5832 - val_accuracy: 0.6972\n",
            "Epoch 6/15\n",
            "1000/1000 [==============================] - 113s 113ms/step - loss: 0.5748 - accuracy: 0.7010 - val_loss: 0.5737 - val_accuracy: 0.6940\n",
            "Epoch 7/15\n",
            "1000/1000 [==============================] - 118s 118ms/step - loss: 0.5578 - accuracy: 0.7155 - val_loss: 0.5412 - val_accuracy: 0.7266\n",
            "Epoch 8/15\n",
            "1000/1000 [==============================] - 113s 113ms/step - loss: 0.5394 - accuracy: 0.7287 - val_loss: 0.5227 - val_accuracy: 0.7464\n",
            "Epoch 9/15\n",
            "1000/1000 [==============================] - 111s 111ms/step - loss: 0.5229 - accuracy: 0.7442 - val_loss: 0.5298 - val_accuracy: 0.7370\n",
            "Epoch 10/15\n",
            "1000/1000 [==============================] - 119s 119ms/step - loss: 0.5134 - accuracy: 0.7504 - val_loss: 0.5330 - val_accuracy: 0.7310\n",
            "Epoch 11/15\n",
            "1000/1000 [==============================] - 121s 121ms/step - loss: 0.5018 - accuracy: 0.7578 - val_loss: 0.4824 - val_accuracy: 0.7686\n",
            "Epoch 12/15\n",
            "1000/1000 [==============================] - 117s 117ms/step - loss: 0.4902 - accuracy: 0.7641 - val_loss: 0.4779 - val_accuracy: 0.7736\n",
            "Epoch 13/15\n",
            "1000/1000 [==============================] - 117s 117ms/step - loss: 0.4855 - accuracy: 0.7642 - val_loss: 0.4879 - val_accuracy: 0.7620\n",
            "Epoch 14/15\n",
            "1000/1000 [==============================] - 114s 114ms/step - loss: 0.4764 - accuracy: 0.7726 - val_loss: 0.4636 - val_accuracy: 0.7856\n",
            "Epoch 15/15\n",
            "1000/1000 [==============================] - 121s 121ms/step - loss: 0.4659 - accuracy: 0.7786 - val_loss: 0.4646 - val_accuracy: 0.7788\n"
          ],
          "name": "stdout"
        }
      ]
    },
    {
      "cell_type": "code",
      "metadata": {
        "id": "cRq37EioSrsw",
        "colab_type": "code",
        "colab": {
          "base_uri": "https://localhost:8080/",
          "height": 549
        },
        "outputId": "f4904e96-2b74-4bb3-b86c-16d8a6c17488"
      },
      "source": [
        "epoch_Range = range(1,16)\n",
        "plt.plot(epoch_Range,history.history['accuracy'])\n",
        "plt.plot(epoch_Range,history.history['val_accuracy'])\n",
        "plt.xlabel('epochs')\n",
        "plt.ylabel('accuracy')\n",
        "plt.legend(['Train','Val'])\n",
        "plt.show()\n",
        "plt.plot(epoch_Range,history.history['loss'])\n",
        "plt.plot(epoch_Range,history.history['val_loss'])\n",
        "plt.xlabel('epochs')\n",
        "plt.ylabel('loss')\n",
        "plt.legend(['Train','Val'])\n",
        "plt.show()"
      ],
      "execution_count": 17,
      "outputs": [
        {
          "output_type": "display_data",
          "data": {
            "image/png": "[encoded data removed]",
            "text/plain": [
              "<Figure size 432x288 with 1 Axes>"
            ]
          },
          "metadata": {
            "tags": []
          }
        },
        {
          "output_type": "display_data",
          "data": {
            "image/png": "[encoded data removed]",
            "text/plain": [
              "<Figure size 432x288 with 1 Axes>"
            ]
          },
          "metadata": {
            "tags": []
          }
        }
      ]
    }
  ]
}